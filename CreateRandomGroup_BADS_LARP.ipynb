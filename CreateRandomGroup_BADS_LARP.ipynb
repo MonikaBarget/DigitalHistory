{
 "cells": [
  {
   "cell_type": "code",
   "execution_count": 6,
   "id": "a4b4937c-361f-43df-abd5-d96c59e2687a",
   "metadata": {
    "tags": []
   },
   "outputs": [
    {
     "name": "stdout",
     "output_type": "stream",
     "text": [
      "LARP1: ['Student', 'Student', 'Student', 'Student', 'Student",
      "GROUP 2: ['Student', 'Student', 'Student', 'Student', 'Student', 'Student",
      "GROUP 3: ['Student', 'Student', 'Student', 'Student', 'Student', 'Student"
     ]
    }
   ],
   "source": [
    "# Script written to assign students to groups of different sizes for classroom debate\n",
    "# students are to be assigned to groups of approximately equal size\n",
    "\n",
    "import random\n",
    "\n",
    "infile=\"the_list.txt\" # file with student names\n",
    "\n",
    "with open(infile, encoding=\"utf-8\") as f:\n",
    "    names=f.readlines()\n",
    "    \n",
    "    the_list=[]\n",
    "    for n in names:\n",
    "        the_list.append(n)\n",
    "\n",
    "    group1=random.sample(the_list, 5) # randomly select three students\n",
    "    \n",
    "    print(\"LARP1:\", group1)\n",
    "    \n",
    "    for t in the_list:\n",
    "        if t in group1:\n",
    "            #print(t)\n",
    "            the_list.remove(t) # remove group 1 from list\n",
    "        else:\n",
    "            continue\n",
    "        \n",
    "    num=round(len(the_list)//2) # divide remaining list into two equally large groups (+/-1)\n",
    "    \n",
    "    group2=random.sample(the_list, num) # select group 2 from list\n",
    "    group3=[] \n",
    "    for x in the_list:\n",
    "        if x in group2:\n",
    "            continue\n",
    "        else:\n",
    "            group3.append(x) # assign all remaining students to group 3\n",
    "\n",
    "    \n",
    "    print(\"GROUP 2:\", group2)\n",
    "    print(\"GROUP 3:\", group3)"
   ]
  },
  {
   "cell_type": "code",
   "execution_count": null,
   "id": "317ec818-ecdd-4f5c-a391-e24e9f7a072f",
   "metadata": {},
   "outputs": [],
   "source": []
  },
  {
   "cell_type": "code",
   "execution_count": null,
   "id": "ce00850b-18bc-4818-9fc8-15fc52eff537",
   "metadata": {},
   "outputs": [],
   "source": []
  },
  {
   "cell_type": "code",
   "execution_count": null,
   "id": "8fe7206f-c9f2-4ce9-a521-881f1d810bc2",
   "metadata": {},
   "outputs": [],
   "source": []
  }
 ],
 "metadata": {
  "kernelspec": {
   "display_name": "Python 3 (ipykernel)",
   "language": "python",
   "name": "python3"
  },
  "language_info": {
   "codemirror_mode": {
    "name": "ipython",
    "version": 3
   },
   "file_extension": ".py",
   "mimetype": "text/x-python",
   "name": "python",
   "nbconvert_exporter": "python",
   "pygments_lexer": "ipython3",
   "version": "3.8.13"
  }
 },
 "nbformat": 4,
 "nbformat_minor": 5
}
